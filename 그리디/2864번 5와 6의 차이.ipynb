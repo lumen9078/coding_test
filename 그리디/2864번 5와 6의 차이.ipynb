{
 "cells": [
  {
   "cell_type": "markdown",
   "id": "f18075e1",
   "metadata": {},
   "source": [
    "### 5와 6의 차이\n",
    "##### 브론즈II\n",
    "\n",
    "상근이는 2863번에서 표를 너무 열심히 돌린 나머지 5와 6을 헷갈리기 시작했다.\n",
    "\n",
    "상근이가 <mark>숫자 5를 볼 때, 5로 볼 때도 있지만, 6으로 잘못 볼 수도 있고, 6을 볼 때는, 6으로 볼 때도 있지만, 5로 잘못 볼 수도</mark> 있다.\n",
    "\n",
    "두 수 A와 B가 주어졌을 때, 상근이는 이 두 수를 더하려고 한다. 이때, 상근이가 구할 수 있는 <mark>두 수의 가능한 합 중, 최솟값과 최댓값</mark>을 구해 출력하는 프로그램을 작성하시오.\n",
    "\n",
    "\n",
    "##### 입력 조건 \n",
    "첫째 줄에 두 정수 A와 B가 주어진다. (1 <= A,B <= 1,000,000)\n",
    "\n",
    "##### 출력 조건\n",
    "첫째 줄에 상근이가 구할 수 있는 두 수의 합 중 최솟값과 최댓값을 출력한다."
   ]
  },
  {
   "cell_type": "code",
   "execution_count": 1,
   "id": "5de475ab",
   "metadata": {},
   "outputs": [
    {
     "name": "stdout",
     "output_type": "stream",
     "text": [
      "11 25\n",
      "36 37\n"
     ]
    }
   ],
   "source": [
    "# 내가 푼 코드\n",
    "\n",
    "def main():\n",
    "    a, b = input().split()\n",
    "\n",
    "    # 최소값이 되기 위해서는 5 -> 6으로\n",
    "    min = int(a.replace('6', '5')) + int(b.replace('6', '5'))\n",
    "\n",
    "    # 최대값이 되기 위해서는 6 -> 5으로\n",
    "    max = int(a.replace('5', '6')) + int(b.replace('5', '6'))\n",
    "    print(min, max)\n",
    "\n",
    "if __name__ == \"__main__\":\n",
    "    main()"
   ]
  }
 ],
 "metadata": {
  "kernelspec": {
   "display_name": "Python 3 (ipykernel)",
   "language": "python",
   "name": "python3"
  },
  "language_info": {
   "codemirror_mode": {
    "name": "ipython",
    "version": 3
   },
   "file_extension": ".py",
   "mimetype": "text/x-python",
   "name": "python",
   "nbconvert_exporter": "python",
   "pygments_lexer": "ipython3",
   "version": "3.10.1"
  }
 },
 "nbformat": 4,
 "nbformat_minor": 5
}
