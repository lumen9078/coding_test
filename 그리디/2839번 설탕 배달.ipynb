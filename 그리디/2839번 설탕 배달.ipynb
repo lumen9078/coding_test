{
 "cells": [
  {
   "cell_type": "markdown",
   "id": "592a490d",
   "metadata": {},
   "source": [
    "### 설탕 배달\n",
    "##### 브론즈 I\n",
    "\n",
    "상근이는 요즘 설탕공장에서 설탕을 배달하고 있다. 상근이는 지금 사탕가게에 설탕을 정확하게 N킬로그램을 배달해야 한다. 설탕공장에서 만드는 설탕은 봉지에 담겨져 있다. 봉지는 3킬로그램 봉지와 5킬로그램 봉지가 있다.   \n",
    "\n",
    "상근이는 귀찮기 때문에, <mark>최대한 적은 봉지</mark>를 들고 가려고 한다. 예를 들어, 18킬로그램 설탕을 배달해야 할 때, 3킬로그램 봉지 6개를 가져가도 되지만, 5킬로그램 3개와 3킬로그램 1개를 배달하면, 더 적은 개수의 봉지를 배달할 수 있다.   \n",
    "\n",
    "상근이가 설탕을 <mark>정확하게 N킬로그램</mark> 배달해야 할 때, 봉지 몇 개를 가져가면 되는지 그 수를 구하는 프로그램을 작성하시오.   \n",
    "\n",
    "##### 입력 조건   \n",
    " 첫째 줄에 N이 주어진다. (3 ≤ N ≤ 5000)\n",
    "\n",
    "##### 출력 조건   \n",
    " 상근이가 배달하는 봉지의 최소 개수를 출력한다. 만약, 정확하게 N킬로그램을 만들 수 없다면 -1을 출력한다."
   ]
  },
  {
   "cell_type": "code",
   "execution_count": 1,
   "id": "68923fa4",
   "metadata": {},
   "outputs": [
    {
     "name": "stdout",
     "output_type": "stream",
     "text": [
      "11\n",
      "-1\n"
     ]
    }
   ],
   "source": [
    "# 내가 푼 코드\n",
    "\n",
    "def main():\n",
    "    n = int(input())\n",
    "    \n",
    "    count = 0\n",
    "    num = n\n",
    "    if n // 5 != 0:\n",
    "        count += n // 5\n",
    "        n = n - (5 * (n // 5))\n",
    "\n",
    "    if n // 3 != 0:\n",
    "        count += n // 3\n",
    "        n = n - (3 * (n // 3))\n",
    "    \n",
    "    if n != 0:\n",
    "        count = -1\n",
    "        if num % 5 == 0:\n",
    "            count = num // 5\n",
    "        if num % 3 == 0:\n",
    "            count = num // 3\n",
    "    \n",
    "    print(count)\n",
    "\n",
    "if __name__ == \"__main__\":\n",
    "    main()"
   ]
  },
  {
   "cell_type": "code",
   "execution_count": 2,
   "id": "f6f52399",
   "metadata": {},
   "outputs": [
    {
     "name": "stdout",
     "output_type": "stream",
     "text": [
      "11\n",
      "3\n"
     ]
    }
   ],
   "source": [
    "# 힌트를 보고 다시 푼 코드\n",
    "# 입력 받은 N을 3으로 나눠 5의 배수로 만들어줌\n",
    "\n",
    "def main():\n",
    "    n = int(input())\n",
    "    \n",
    "    count = 0\n",
    "    while True:\n",
    "        if n % 5 == 0:\n",
    "            count += n // 5\n",
    "            break\n",
    "\n",
    "        n = n - 3\n",
    "        count += 1\n",
    "        \n",
    "        if n < 0:\n",
    "            count = -1\n",
    "            break\n",
    "    \n",
    "    print(count)\n",
    "\n",
    "if __name__ == \"__main__\":\n",
    "    main()"
   ]
  }
 ],
 "metadata": {
  "kernelspec": {
   "display_name": "Python 3 (ipykernel)",
   "language": "python",
   "name": "python3"
  },
  "language_info": {
   "codemirror_mode": {
    "name": "ipython",
    "version": 3
   },
   "file_extension": ".py",
   "mimetype": "text/x-python",
   "name": "python",
   "nbconvert_exporter": "python",
   "pygments_lexer": "ipython3",
   "version": "3.10.1"
  }
 },
 "nbformat": 4,
 "nbformat_minor": 5
}
