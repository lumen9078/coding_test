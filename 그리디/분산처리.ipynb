{
 "cells": [
  {
   "cell_type": "markdown",
   "id": "85e35054",
   "metadata": {},
   "source": [
    "### 분산처리\n",
    "##### 브론즈III\n",
    "   \n",
    " 재용이는 최신 컴퓨터 10대를 가지고 있다. 어느 날 재용이는 많은 데이터를 처리해야 될 일이 생겨서 각 컴퓨터에 1번부터 10번까지 번호를 부여하고, 10대의 컴퓨터가 다음과 같은 방법으로 데이터들을 처리하기로 하였다.   \n",
    "    \n",
    " 1번 데이터는 1번 컴퓨터, 2번 데이터는 2번 컴퓨터, 3번 데이터는 3번 컴퓨터, ...,   \n",
    "    \n",
    " 10번 데이터는 10번 컴퓨터, 11번 데이터는 1번 컴퓨터, 12번 컴퓨터는 2번 컴퓨터, ...   \n",
    "     \n",
    " 총 데이터의 개수는 항상 a의 b승개의 형태로 주어진다. 재용이는 문득 마지막 데이터가 처리될 컴퓨터의 번호가 궁금해졌다. 이를 수행해주는 프로그램을 작성하라.   \n",
    "    \n",
    "##### 입력 조건\n",
    " 입력의 첫 줄에는 테스트 케이스의 개수 T가 주어진다. 그 다음 줄부터 각각의 테스트 케이스에 대해 정수 a와 b가 주어진다.(1 <= a < 100, 1 <= b < 1,000,000)\n",
    "\n",
    "##### 출력 조건\n",
    " 각 테스트 케이스에 대해 마지막 데이터가 처리되는 컴퓨터의 번호를 출력한다."
   ]
  },
  {
   "cell_type": "code",
   "execution_count": 2,
   "id": "469fcdce",
   "metadata": {},
   "outputs": [
    {
     "name": "stdout",
     "output_type": "stream",
     "text": [
      "5\n",
      "1 6\n",
      "3 7\n",
      " 6 2\n",
      "7 100\n",
      "9 635\n",
      "1\n",
      "7\n",
      "6\n",
      "1\n",
      "9\n"
     ]
    }
   ],
   "source": [
    "# 시간 초과\n",
    "\n",
    "def main():\n",
    "    T = int(input())\n",
    "\n",
    "    computer_num = []\n",
    "    for _ in range (0, T, 1):\n",
    "        a, b = map(int, input().split())\n",
    "        data = str(a**b)[-1]\n",
    "        computer_num.append(\"10\" if data == 10 else data)\n",
    "\n",
    "    for num in computer_num:\n",
    "        print(num, end=\"\\n\")\n",
    "\n",
    "if __name__ == \"__main__\":\n",
    "    main()"
   ]
  },
  {
   "cell_type": "markdown",
   "id": "a156d20e",
   "metadata": {},
   "source": [
    "_문제 해설_   \n",
    "   \n",
    " 단순히 a\\*\\*b를 사용해서 일의 자리 수를 출력하는 건 시간 초과가 뜬다. ex) 7\\*\\*100   \n",
    " 문제에서 준 컴퓨터가 10대라는 것이 가장 큰 힌트인데, 1부터 10까지 각각을 거듭제곱했을 시, 일의 자리 패턴을 정리해보면 아래 표와 같다.   \n",
    "    \n",
    "|&nbsp;&nbsp;&nbsp;1&nbsp;&nbsp;&nbsp;|&nbsp;&nbsp;&nbsp;2&nbsp;&nbsp;&nbsp;|&nbsp;&nbsp;&nbsp;3&nbsp;&nbsp;&nbsp;|&nbsp;&nbsp;&nbsp;4&nbsp;&nbsp;&nbsp;|&nbsp;&nbsp;&nbsp;5&nbsp;&nbsp;&nbsp;|&nbsp;&nbsp;&nbsp;6&nbsp;&nbsp;&nbsp;|&nbsp;&nbsp;&nbsp;7&nbsp;&nbsp;&nbsp;|&nbsp;&nbsp;&nbsp;8&nbsp;&nbsp;&nbsp;|&nbsp;&nbsp;&nbsp;9&nbsp;&nbsp;&nbsp;|&nbsp;&nbsp;&nbsp;10&nbsp;&nbsp;&nbsp;|\n",
    "|:----------:|:----------:|:----------:|:----------:|:----------:|:----------:|:----------:|:----------:|:----------:|:-----------:|\n",
    "|1|2, 4, 6, 8|3, 9, 7, 1|4, 6|5|6|7, 9, 3, 1|8, 4, 2, 6|9, 1|0|\n",
    "   \n",
    " 1. 일의 자리 패턴이 한 개인 경우   \n",
    " 1, 5, 6은 자기자신을 그대로 출력하고, 10일 때는 0이므로 컴퓨터번호 10을 출력 \n",
    " 2. 일의 자리 패턴이 두 개인 경우   \n",
    " 지수를 2로 나누었을 껑우 나머지가 1이 나오면(지수가 홀수일 때) 첫번째 값(4와 9)를 0이 나오면(지수가 짝수이면) 두번째 값(6과 1)을 출력  \n",
    " 3. 일의 자리 패턴이 네 개인 경우   \n",
    " 지수를 2로 나누었을 껑우 나머지가 1이 나오면(지수가 홀수일 때) 첫번째 값(4와 9)를 0이 나오면(지수가 짝수이면) 두번째 값(6과 1)을 출력  "
   ]
  },
  {
   "cell_type": "code",
   "execution_count": 3,
   "id": "8b357d3e",
   "metadata": {},
   "outputs": [
    {
     "name": "stdout",
     "output_type": "stream",
     "text": [
      "5\n",
      "1 6\n",
      "3 7\n",
      "6 2\n",
      "7 100\n",
      "9 635\n",
      "1\n",
      "7\n",
      "6\n",
      "1\n",
      "9\n"
     ]
    }
   ],
   "source": [
    "# 다른 분 코드 참고\n",
    "\n",
    "t = int(input())\n",
    "a = []\n",
    "b = []\n",
    "\n",
    "# for문으로 t만큼 돌면서 a와 b를 입력받아 리스트에 저장\n",
    "for _ in range(t):\n",
    "    num1, num2 = map(int, input().split())\n",
    "    a.append(num1)\n",
    "    b.append(num2)\n",
    "\n",
    "for i in range(t):\n",
    "    # a의 1의 자리수를 com 벼수에 대입\n",
    "    com = a[i] % 10\n",
    "    \n",
    "    if com == 0: # a가 10의 배수면, 바로 10번 컴퓨터에 매칭\n",
    "        print(10)\n",
    "    elif com in [1, 5, 6]: # a의 1의 자리수가 1, 5, 6이면, 그대로 출력\n",
    "        print(com)\n",
    "    elif com in [4, 9]: # a의 1의 자리수가 4, 9이면, b 제곱한 수의 1의 자리수가 2가지 경우\n",
    "        if b[i] % 2 == 0: # 나머지 0/지수가 짝수일 때, 두번째 값\n",
    "            print(com ** 2 % 10)\n",
    "        else:\n",
    "            print(com) # 나머지 1/지수가 홀수일 때, 첫번째 값\n",
    "    else: # a의 1의 자리수가 2, 3, 7, 8이면, b 제곱한 수의 1의 자리수가 4가지 경우\n",
    "        if b[i] % 4 == 0:\n",
    "            print(com ** 4 % 10)\n",
    "        else:\n",
    "            print(com ** (b[i] % 4) % 10)"
   ]
  }
 ],
 "metadata": {
  "kernelspec": {
   "display_name": "Python 3 (ipykernel)",
   "language": "python",
   "name": "python3"
  },
  "language_info": {
   "codemirror_mode": {
    "name": "ipython",
    "version": 3
   },
   "file_extension": ".py",
   "mimetype": "text/x-python",
   "name": "python",
   "nbconvert_exporter": "python",
   "pygments_lexer": "ipython3",
   "version": "3.10.1"
  }
 },
 "nbformat": 4,
 "nbformat_minor": 5
}
