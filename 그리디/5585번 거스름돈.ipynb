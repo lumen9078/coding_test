{
 "cells": [
  {
   "cell_type": "markdown",
   "id": "00dc96a5",
   "metadata": {},
   "source": [
    "### 거스픔돈\n",
    "##### 브론즈 II\n",
    "\n",
    "타로는 자주 JOI잡화점에서 물건을 산다. JOI잡화점에는 잔돈으로 500엔, 100엔, 50엔, 10엔, 5엔, 1엔이 충분히 있고, 언제나 거스름돈 개수가 <mark>가장 적게</mark> 잔돈을 준다. 타로가 JOI잡화점에서 물건을 사고 카운터에서 <mark>1000엔 지폐를 한장</mark> 냈을 때, 받을 잔돈에 포함된 <mark>잔돈의 개수</mark>를 구하는 프로그램을 작성하시오.\n",
    "\n",
    "##### 입력 조건\n",
    " 입력은 한 줄로 이루어져있고, 타로가 지불할 돈(1 이상 1000 미만의 정수) 1개가 쓰여져있다.\n",
    " \n",
    "##### 출력 조건\n",
    " 출력할 출력 파일은 1행으로만 되어 있다. 잔돈에 포함된 배수를 출력하시오."
   ]
  },
  {
   "cell_type": "code",
   "execution_count": 19,
   "id": "ca93e73a",
   "metadata": {},
   "outputs": [
    {
     "name": "stdout",
     "output_type": "stream",
     "text": [
      "1\n",
      "15\n"
     ]
    }
   ],
   "source": [
    "# 내가 푼 코드\n",
    "\n",
    "def main():\n",
    "    m = 1000 - int(input())\n",
    "\n",
    "    count = 0\n",
    "    if  m // 500 != 0:\n",
    "        count += m // 500\n",
    "        m = (m - (500 * (m // 500)))\n",
    "        \n",
    "    if  m // 100 != 0:\n",
    "        count += m // 100\n",
    "        m = (m - (100 * (m // 100)))\n",
    "\n",
    "    if  m // 50 != 0:\n",
    "        count += m // 50\n",
    "        m = (m - (50 * (m // 50)))\n",
    "\n",
    "    if  m // 10 != 0:\n",
    "        count += m // 10\n",
    "        m = (m - (10 * (m // 10)))\n",
    "\n",
    "    if  m // 5 != 0:\n",
    "        count += m // 5\n",
    "        m = (m - (5 * (m // 5)))\n",
    "\n",
    "    if  m // 1 != 0:\n",
    "        count += m // 1\n",
    "        m = (m - (1 * (m // 1)))\n",
    "    \n",
    "    print(count)\n",
    "\n",
    "if __name__ == \"__main__\":\n",
    "    main()"
   ]
  },
  {
   "cell_type": "code",
   "execution_count": 14,
   "id": "f9381ba9",
   "metadata": {},
   "outputs": [
    {
     "name": "stdout",
     "output_type": "stream",
     "text": [
      "1\n"
     ]
    }
   ],
   "source": [
    "count = 0\n",
    "count += 600//500\n",
    "print(count)"
   ]
  },
  {
   "cell_type": "code",
   "execution_count": null,
   "id": "91299329",
   "metadata": {},
   "outputs": [],
   "source": []
  }
 ],
 "metadata": {
  "kernelspec": {
   "display_name": "Python 3 (ipykernel)",
   "language": "python",
   "name": "python3"
  },
  "language_info": {
   "codemirror_mode": {
    "name": "ipython",
    "version": 3
   },
   "file_extension": ".py",
   "mimetype": "text/x-python",
   "name": "python",
   "nbconvert_exporter": "python",
   "pygments_lexer": "ipython3",
   "version": "3.10.1"
  }
 },
 "nbformat": 4,
 "nbformat_minor": 5
}
