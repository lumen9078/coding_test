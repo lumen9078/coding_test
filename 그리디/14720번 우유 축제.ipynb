{
 "cells": [
  {
   "cell_type": "markdown",
   "id": "cc8256d9",
   "metadata": {},
   "source": [
    "### 우유 축제\n",
    "##### 브론즈III\n",
    "\n",
    "영학이는 딸기우유, 초코우유, 바나나우유를 좋아한다.\n",
    "\n",
    "입맛이 매우 까다로운 영학이는 자신만의 우유를 마시는 규칙이 있다.\n",
    "\n",
    "맨 처음에는 딸기우유를 한 팩 마신다.\n",
    "딸기우유를 한 팩 마신 후에는 초코우유를 한 팩 마신다.\n",
    "초코우유를 한 팩 마신 후에는 바나나우유를 한 팩 마신다.\n",
    "바나나우유를 한 팩 마신 후에는 딸기우유를 한 팩 마신다. \n",
    "영학이는 우유 축제가 열리고 있는 우유거리에 왔다. 우유 거리에는 우유 가게들이 일렬로 늘어서 있다.\n",
    "\n",
    "영학이는 우유 거리의 시작부터 끝까지 걸으면서 우유를 사먹고자 한다.\n",
    "\n",
    "각각의 우유 가게는 딸기, 초코, 바나나 중 한 종류의 우유만을 취급한다.\n",
    "\n",
    "각각의 우유 가게 앞에서, 영학이는 우유를 사마시거나, 사마시지 않는다.\n",
    "\n",
    "우유거리에는 사람이 많기 때문에 <mark>한 번 지나친 우유 가게에는 다시 갈 수 없다.</mark>\n",
    "\n",
    "영학이가 마실 수 있는 <mark>우유의 최대 개수</mark>를 구하여라.\n",
    "\n",
    "##### 입력 조건\n",
    "첫째 줄에 우유 가게의 수 N이 주어진다. (1 ≤ N ≤ 1000)\n",
    "\n",
    "둘째 줄에는 우유 가게 정보가 우유 거리의 시작부터 끝까지 순서대로 N개의 정수로 주어진다.\n",
    "\n",
    "0은 딸기우유만을 파는 가게, 1은 초코우유만을 파는 가게, 2는 바나나우유만을 파는 가게를 뜻하며, 0, 1, 2 외의 정수는 주어지지 않는다.\n",
    "\n",
    "##### 출력 조건\n",
    "영학이가 마실 수 있는 우유의 최대 개수를 출력하시오."
   ]
  },
  {
   "cell_type": "code",
   "execution_count": 1,
   "id": "75848e71",
   "metadata": {},
   "outputs": [
    {
     "name": "stdout",
     "output_type": "stream",
     "text": [
      "6\n",
      "3 2 1 0 1 2\n",
      "3\n"
     ]
    }
   ],
   "source": [
    "# 내가 푼 코드\n",
    "# 딸기우유(0) -> 초코우유(1) -> 바나나우유(2) -> 딸기우유(0)\n",
    "\n",
    "def main():\n",
    "    n = int(input())\n",
    "    store = list(map(int, input().split()))\n",
    "    \n",
    "    drink = []\n",
    "    idx_zero = 0\n",
    "    for idx in range(n):\n",
    "        if store[idx] == 0:\n",
    "            drink.append(0)\n",
    "            idx_zero = idx\n",
    "            break\n",
    "    \n",
    "    for val in store[idx_zero:]:\n",
    "        if drink[-1] == 0 and val == 1:\n",
    "            drink.append(val)\n",
    "        elif drink[-1] == 1 and val == 2:\n",
    "            drink.append(val)\n",
    "        elif drink[-1] == 2 and val== 0:\n",
    "            drink.append(val)\n",
    "    \n",
    "    print(len(drink))\n",
    "\n",
    "if __name__ == \"__main__\":\n",
    "    main()"
   ]
  },
  {
   "cell_type": "code",
   "execution_count": 2,
   "id": "8eb64826",
   "metadata": {},
   "outputs": [
    {
     "name": "stdout",
     "output_type": "stream",
     "text": [
      "6\n",
      "3 2 1 0 1 2\n",
      "3\n"
     ]
    }
   ],
   "source": [
    "# 다른 분 코드 참고\n",
    "# 딸기우유(0) -> 초코우유(1) -> 바나나우유(2) -> 딸기우유(0)\n",
    "\n",
    "n = int(input())\n",
    "store = list(map(int, input().split()))\n",
    "max = 0\n",
    "\n",
    "for i in range(n):\n",
    "    # max == 0, max % 3 = 0 % 3 = 0\n",
    "    # max == 1, max % 3 = 1 % 3 = 1\n",
    "    # max == 2, max % 3 = 2 % 3 = 2\n",
    "    if(store[i] == max % 3):\n",
    "        max += 1\n",
    "\n",
    "print(max)"
   ]
  },
  {
   "cell_type": "markdown",
   "id": "368bd730",
   "metadata": {},
   "source": [
    "__반례__   \n",
    "   \n",
    "_입력_   \n",
    "8<br>\n",
    "0 1 2 2 1 2 0 2   \n",
    "_출력_   \n",
    "4\n",
    "\n",
    "_입력_   \n",
    "5<br>\n",
    "0 1 0 1 2   \n",
    "_출력_    \n",
    "3\n",
    "\n",
    "_입력_   \n",
    "6<br>\n",
    "3 2 1 0 1 2   \n",
    "_출력_    \n",
    "3\n",
    "\n",
    "_입력_   \n",
    "10<br>\n",
    "2 1 0 1 2 0 2 2 1 2   \n",
    "_출력_   \n",
    "6"
   ]
  }
 ],
 "metadata": {
  "kernelspec": {
   "display_name": "Python 3 (ipykernel)",
   "language": "python",
   "name": "python3"
  },
  "language_info": {
   "codemirror_mode": {
    "name": "ipython",
    "version": 3
   },
   "file_extension": ".py",
   "mimetype": "text/x-python",
   "name": "python",
   "nbconvert_exporter": "python",
   "pygments_lexer": "ipython3",
   "version": "3.10.1"
  }
 },
 "nbformat": 4,
 "nbformat_minor": 5
}
