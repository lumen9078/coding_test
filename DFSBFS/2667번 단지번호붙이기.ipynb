{
 "cells": [
  {
   "cell_type": "markdown",
   "metadata": {},
   "source": [
    "### 단지번호붙이기\n",
    "##### 실버 I\n",
    "\n",
    "<그림 1>과 같이 정사각형 모양의 지도가 있다. 1은 집이 있는 곳을, 0은 집이 없는 곳을 나타낸다. 철수는 이 지도를 가지고 연결된 집의 모임인 단지를 정의하고, 단지에 번호를 붙이려 한다. 여기서 연결되었다는 것은 어떤 집이 좌우, 혹은 아래위로 다른 집이 있는 경우를 말한다. 대각선상에 집이 있는 경우는 연결된 것이 아니다. <그림 2>는 <그림 1>을 단지별로 번호를 붙인 것이다. 지도를 입력하여 단지수를 출력하고, 각 단지에 속하는 집의 수를 오름차순으로 정렬하여 출력하는 프로그램을 작성하시오.\n",
    "<img src=\"../image/2667_단지번호붙이기.jpg\"></img>   \n",
    "\n",
    "##### 입력 조건\n",
    "첫 번째 줄에는 지도의 크기 N(정사각형이므로 가로와 세로의 크기는 같으며 5≤N≤25)이 입력되고, 그 다음 N줄에는 각각 N개의 자료(0혹은 1)가 입력된다.\n",
    "\n",
    "##### 출력 조건\n",
    "첫 번째 줄에는 총 단지수를 출력하시오. 그리고 각 단지내 집의 수를 오름차순으로 정렬하여 한 줄에 하나씩 출력하시오."
   ]
  },
  {
   "cell_type": "code",
   "execution_count": 1,
   "metadata": {},
   "outputs": [
    {
     "name": "stdout",
     "output_type": "stream",
     "text": [
      "7\n",
      "0110100\n",
      "0110101\n",
      "1110101\n",
      "0000111\n",
      "0100000\n",
      "0111110\n",
      "0111000\n",
      "3\n",
      "7\n",
      "8\n",
      "9\n"
     ]
    }
   ],
   "source": [
    "n = int(input())\n",
    "graph = [list(input()) for _ in range(n)]\n",
    "\n",
    "result = []\n",
    "def dfs(x, y):\n",
    "    global count\n",
    "    if x < 0 or y < 0 or x >= n or y >= n:\n",
    "        return False\n",
    "    \n",
    "    if graph[x][y] == '0':\n",
    "        return False\n",
    "\n",
    "    graph[x][y] = '0'\n",
    "    dfs(x - 1, y) # 좌\n",
    "    dfs(x + 1, y) # 우\n",
    "    dfs(x, y - 1) # 상\n",
    "    dfs(x, y + 1) # 하\n",
    "    count += 1\n",
    "    return True\n",
    "\n",
    "cnt = 0\n",
    "total = []\n",
    "for x in range(n):\n",
    "    for y in range(n):\n",
    "        count = 0\n",
    "        if dfs(x, y) == True:\n",
    "            cnt += 1\n",
    "            total.append(count)\n",
    "\n",
    "print(cnt)\n",
    "for t in sorted(total):\n",
    "    print(t)"
   ]
  }
 ],
 "metadata": {
  "kernelspec": {
   "display_name": "Python 3",
   "language": "python",
   "name": "python3"
  },
  "language_info": {
   "codemirror_mode": {
    "name": "ipython",
    "version": 3
   },
   "file_extension": ".py",
   "mimetype": "text/x-python",
   "name": "python",
   "nbconvert_exporter": "python",
   "pygments_lexer": "ipython3",
   "version": "3.8.3"
  }
 },
 "nbformat": 4,
 "nbformat_minor": 4
}
