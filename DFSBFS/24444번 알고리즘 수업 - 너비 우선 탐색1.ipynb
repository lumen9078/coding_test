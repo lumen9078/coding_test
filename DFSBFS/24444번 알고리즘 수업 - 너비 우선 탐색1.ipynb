{
 "cells": [
  {
   "cell_type": "markdown",
   "metadata": {},
   "source": [
    "### 알고리즘 수업 - 너비 우선 탐색 1\n",
    "##### 실버 II\n",
    "\n",
    "오늘도 서준이는 너비 우선 탐색(BFS) 수업 조교를 하고 있다. 아빠가 수업한 내용을 학생들이 잘 이해했는지 문제를 통해서 확인해보자.\n",
    "\n",
    "N개의 정점과 M개의 간선으로 구성된 무방향 그래프(undirected graph)가 주어진다. 정점 번호는 1번부터 N번이고 모든 간선의 가중치는 1이다. 정점 R에서 시작하여 너비 우선 탐색으로 노드를 방문할 경우 노드의 방문 순서를 출력하자.\n",
    "\n",
    "너비 우선 탐색 의사 코드는 다음과 같다. 인접 정점은 오름차순으로 방문한다.\n",
    "\n",
    "```\n",
    "bfs(V, E, R) {  # V : 정점 집합, E : 간선 집합, R : 시작 정점\n",
    "    for each v ∈ V - {R}\n",
    "        visited[v] <- NO;\n",
    "    visited[R] <- YES;  # 시작 정점 R을 방문 했다고 표시한다.\n",
    "    enqueue(Q, R);  # 큐 맨 뒤에 시작 정점 R을 추가한다.\n",
    "    while (Q ≠ ∅) {\n",
    "        u <- dequeue(Q);  # 큐 맨 앞쪽의 요소를 삭제한다.\n",
    "        for each v ∈ E(u)  # E(u) : 정점 u의 인접 정점 집합.(정점 번호를 오름차순으로 방문한다)\n",
    "            if (visited[v] = NO) then {\n",
    "                visited[v] <- YES;  # 정점 v를 방문 했다고 표시한다.\n",
    "                enqueue(Q, v);  # 큐 맨 뒤에 정점 v를 추가한다.\n",
    "            }\n",
    "    }\n",
    "}\n",
    "```\n",
    "\n",
    "##### 입력 조건\n",
    "첫째 줄에 정점의 수 N (5 ≤ N ≤ 100,000), 간선의 수 M (1 ≤ M ≤ 200,000), 시작 정점 R (1 ≤ R ≤ N)이 주어진다.\n",
    "\n",
    "다음 M개 줄에 간선 정보 u v가 주어지며 정점 u와 정점 v의 가중치 1인 양방향 간선을 나타낸다. (1 ≤ u < v ≤ N, u ≠ v) 모든 간선의 (u, v) 쌍의 값은 서로 다르다.\n",
    "\n",
    "##### 출력 조건\n",
    "첫째 줄부터 N개의 줄에 정수를 한 개씩 출력한다. i번째 줄에는 정점 i의 방문 순서를 출력한다. 시작 정점의 방문 순서는 1이다. 시작 정점에서 방문할 수 없는 경우 0을 출력한다."
   ]
  },
  {
   "cell_type": "code",
   "execution_count": 1,
   "metadata": {},
   "outputs": [
    {
     "name": "stdout",
     "output_type": "stream",
     "text": [
      "5 5 1\n",
      "1 4\n",
      "1 2\n",
      "2 3\n",
      "2 4\n",
      "3 4\n",
      "1\n",
      "2\n",
      "4\n",
      "3\n",
      "0\n"
     ]
    }
   ],
   "source": [
    "import sys\n",
    "from collections import deque\n",
    "\n",
    "sys.setrecursionlimit(10**6)\n",
    "input = sys.stdin.readline\n",
    "\n",
    "n, m, start = map(int, input().split())\n",
    "graph = [[] for _ in range(n + 1)]\n",
    "visited = [0] * (n + 1)\n",
    "cnt = 1\n",
    "\n",
    "for _ in range (m):\n",
    "    i, j = map(int, input().split())\n",
    "    graph[i].append(j)\n",
    "    graph[j].append(i)\n",
    "\n",
    "def bfs(cnt, n):\n",
    "    queue = deque()\n",
    "    visited[n] = cnt\n",
    "    queue.append(n)\n",
    "    cnt += 1\n",
    "    \n",
    "    while queue:\n",
    "        node = queue.popleft()\n",
    "        graph[node].sort()\n",
    "\n",
    "        for i in graph[node]:\n",
    "            if not visited[i]:\n",
    "                visited[i] = cnt\n",
    "                queue.append(i)\n",
    "                cnt += 1\n",
    "\n",
    "bfs(cnt, start)\n",
    "\n",
    "for v in visited[1:]:\n",
    "    print(v)"
   ]
  },
  {
   "cell_type": "markdown",
   "metadata": {},
   "source": [
    "반례   \n",
    "6 7 1\n",
    "\n",
    "1 6\n",
    "\n",
    "1 2\n",
    "\n",
    "2 6\n",
    "\n",
    "2 3\n",
    "\n",
    "2 4\n",
    "\n",
    "3 5\n",
    "\n",
    "4 5"
   ]
  },
  {
   "cell_type": "code",
   "execution_count": null,
   "metadata": {},
   "outputs": [],
   "source": []
  }
 ],
 "metadata": {
  "kernelspec": {
   "display_name": "Python 3",
   "language": "python",
   "name": "python3"
  },
  "language_info": {
   "codemirror_mode": {
    "name": "ipython",
    "version": 3
   },
   "file_extension": ".py",
   "mimetype": "text/x-python",
   "name": "python",
   "nbconvert_exporter": "python",
   "pygments_lexer": "ipython3",
   "version": "3.8.3"
  }
 },
 "nbformat": 4,
 "nbformat_minor": 4
}
