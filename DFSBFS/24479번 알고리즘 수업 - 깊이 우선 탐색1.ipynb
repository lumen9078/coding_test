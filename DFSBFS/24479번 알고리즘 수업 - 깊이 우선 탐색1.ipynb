{
 "cells": [
  {
   "cell_type": "markdown",
   "metadata": {},
   "source": [
    "### 알고리즘 수업 - 깊이 우선 탐색1\n",
    "##### 실버II\n",
    "\n",
    "오늘도 서준이는 깊이 우선 탐색(DFS) 수업 조교를 하고 있다. 아빠가 수업한 내용을 학생들이 잘 이해했는지 문제를 통해서 확인해보자.\n",
    "\n",
    "N개의 정점과 M개의 간선으로 구성된 무방향 그래프(undirected graph)가 주어진다. 정점 번호는 1번부터 N번이고 모든 간선의 가중치는 1이다. 정점 R에서 시작하여 깊이 우선 탐색으로 노드를 방문할 경우 노드의 방문 순서를 출력하자.\n",
    "\n",
    "깊이 우선 탐색 의사 코드는 다음과 같다. 인접 정점은 오름차순으로 방문한다.\n",
    "\n",
    "```\n",
    "dfs(V, E, R) {  # V : 정점 집합, E : 간선 집합, R : 시작 정점\n",
    "    visited[R] <- YES;  # 시작 정점 R을 방문 했다고 표시한다.\n",
    "    for each x ∈ E(R)  # E(R) : 정점 R의 인접 정점 집합.(정점 번호를 오름차순으로 방문한다)\n",
    "        if (visited[x] = NO) then dfs(V, E, x);\n",
    "}\n",
    "```\n",
    "\n",
    "##### 입력 조건\n",
    "첫째 줄에 정점의 수 N (5 ≤ N ≤ 100,000), 간선의 수 M (1 ≤ M ≤ 200,000), 시작 정점 R (1 ≤ R ≤ N)이 주어진다.\n",
    "\n",
    "다음 M개 줄에 간선 정보 u v가 주어지며 정점 u와 정점 v의 가중치 1인 양방향 간선을 나타낸다. (1 ≤ u < v ≤ N, u ≠ v) 모든 간선의 (u, v) 쌍의 값은 서로 다르다.\n",
    "\n",
    "##### 출력 조건\n",
    "첫째 줄부터 N개의 줄에 정수를 한 개씩 출력한다. i번째 줄에는 정점 i의 방문 순서를 출력한다. 시작 정점의 방문 순서는 1이다. 시작 정점에서 방문할 수 없는 경우 0을 출력한다."
   ]
  },
  {
   "cell_type": "code",
   "execution_count": 1,
   "metadata": {},
   "outputs": [
    {
     "name": "stdout",
     "output_type": "stream",
     "text": [
      "5 5 1\n",
      "1 4\n",
      "1 2\n",
      "2 3\n",
      "2 4\n",
      "3 4\n",
      "1\n",
      "2\n",
      "3\n",
      "4\n",
      "0\n"
     ]
    }
   ],
   "source": [
    "# 내가 푼 코드\n",
    "\"\"\"\n",
    "문제점 : 시간 초과 발생\n",
    "\"\"\"\n",
    "\n",
    "def dfs(graph, r, visited):\n",
    "    visited[r] = True\n",
    "    print(r)\n",
    "    \n",
    "    for i in graph[r]:\n",
    "        if visited[i] is False:\n",
    "            dfs(graph, i, visited)\n",
    "\n",
    "n, m, r = map(int, input().split())\n",
    "value = [list(map(int, input().split())) for _ in range(n)]\n",
    "\n",
    "graph = []\n",
    "for i in range(n):\n",
    "    lst = []\n",
    "    for val in value:\n",
    "        if i in val:\n",
    "            lst.extend(val)\n",
    "    graph.append(set(lst))\n",
    "\n",
    "visited = [False] * (n + 1)\n",
    "\n",
    "dfs(graph, r, visited)\n",
    "\n",
    "count = visited.count(False) - 1\n",
    "for _ in range(count):\n",
    "    print(0)"
   ]
  },
  {
   "cell_type": "code",
   "execution_count": 3,
   "metadata": {},
   "outputs": [
    {
     "name": "stdout",
     "output_type": "stream",
     "text": [
      "5 5 1\n",
      "1 4\n",
      "1 2\n",
      "2 3\n",
      "2 4\n",
      "3 4\n",
      "1\n",
      "2\n",
      "3\n",
      "4\n",
      "0\n"
     ]
    }
   ],
   "source": [
    "# 다른 분 코드 참고\n",
    "n, m, r = map(int, input().split())\n",
    "graph = [[] for _ in range(n + 1)]\n",
    "visited = [0] * (n + 1)\n",
    "count = 1\n",
    "\n",
    "for _ in range(m):\n",
    "    a, b = map(int, input().split())\n",
    "    graph[a].append(b)\n",
    "    graph[b].append(a)\n",
    "\n",
    "def dfs(v):\n",
    "    global count\n",
    "    visited[v] = count\n",
    "    graph[v].sort()\n",
    "    for g in graph[v]:\n",
    "        if visited[g] == 0:\n",
    "            count += 1\n",
    "            dfs(g)\n",
    "\n",
    "dfs(r)\n",
    "\n",
    "for i in range(1, n + 1):\n",
    "    print(visited[i])"
   ]
  }
 ],
 "metadata": {
  "kernelspec": {
   "display_name": "Python 3",
   "language": "python",
   "name": "python3"
  },
  "language_info": {
   "codemirror_mode": {
    "name": "ipython",
    "version": 3
   },
   "file_extension": ".py",
   "mimetype": "text/x-python",
   "name": "python",
   "nbconvert_exporter": "python",
   "pygments_lexer": "ipython3",
   "version": "3.8.3"
  }
 },
 "nbformat": 4,
 "nbformat_minor": 4
}
