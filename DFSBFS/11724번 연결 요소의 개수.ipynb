{
 "cells": [
  {
   "cell_type": "markdown",
   "metadata": {},
   "source": [
    "### 연결 요소의 개수\n",
    "##### 실버II\n",
    "방향 없는 그래프가 주어졌을 때, 연결 요소 (Connected Component)의 개수를 구하는 프로그램을 작성하시오.\n",
    "\n",
    "##### 입력 조건\n",
    "첫째 줄에 정점의 개수 N과 간선의 개수 M이 주어진다. (1 ≤ N ≤ 1,000, 0 ≤ M ≤ N×(N-1)/2) 둘째 줄부터 M개의 줄에 간선의 양 끝점 u와 v가 주어진다. (1 ≤ u, v ≤ N, u ≠ v) 같은 간선은 한 번만 주어진다.\n",
    "\n",
    "##### 출력 조건\n",
    "첫째 줄에 연결 요소의 개수를 출력한다."
   ]
  },
  {
   "cell_type": "markdown",
   "metadata": {},
   "source": [
    "_참고_   \n",
    "python의 기본 재귀 깊이가 1000으로 설정돼 있기 때문에 (그 이상은 RecursionError를 raise합니다) setrecursionlimit()으로 설정해주면 됩니다.\n",
    "\n",
    "이 문제는 입력이 많은 줄로 이루어져 있어 sys.stdin.readline으로 입력을 받아들이면 훨씬 빠르게 입력받을 수 있습니다. 별개의 문제입니다."
   ]
  },
  {
   "cell_type": "code",
   "execution_count": 1,
   "metadata": {},
   "outputs": [
    {
     "name": "stdout",
     "output_type": "stream",
     "text": [
      "6 5\n",
      "1 2\n",
      "2 5\n",
      "5 1\n",
      "3 4\n",
      "4 6\n",
      "2\n"
     ]
    }
   ],
   "source": [
    "# import sys\n",
    "# sys.setrecursionlimit(10**6)\n",
    "# input = sys.stdin.readline\n",
    "\n",
    "n, m = map(int, input().split())    # 정점의 개수 간선의 개수\n",
    "graph = [[] for _ in range(n + 1)]\n",
    "visited = [False] * (n + 1)\n",
    "visited[0] = True\n",
    "\n",
    "for _ in range(m):\n",
    "    i, j = map(int, input().split())\n",
    "    graph[i].append(j)\n",
    "    graph[j].append(i)\n",
    "\n",
    "def dfs(v):\n",
    "    visited[v] = True\n",
    "    \n",
    "    for i in graph[v]:\n",
    "        if not visited[i]:\n",
    "            dfs(i)\n",
    "\n",
    "count = 0\n",
    "for idx, val in enumerate(visited):\n",
    "    if not val:\n",
    "        dfs(idx)\n",
    "        count += 1\n",
    "\n",
    "print(count)"
   ]
  }
 ],
 "metadata": {
  "kernelspec": {
   "display_name": "Python 3",
   "language": "python",
   "name": "python3"
  },
  "language_info": {
   "codemirror_mode": {
    "name": "ipython",
    "version": 3
   },
   "file_extension": ".py",
   "mimetype": "text/x-python",
   "name": "python",
   "nbconvert_exporter": "python",
   "pygments_lexer": "ipython3",
   "version": "3.8.3"
  }
 },
 "nbformat": 4,
 "nbformat_minor": 4
}
