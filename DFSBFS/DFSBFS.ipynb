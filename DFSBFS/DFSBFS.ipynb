{
 "cells": [
  {
   "cell_type": "markdown",
   "id": "bbf2e04d",
   "metadata": {},
   "source": [
    "# DFS/BFS\n",
    "## : 그래프를 탐색하기 위한 대표적인 두 가지 알고리즘"
   ]
  },
  {
   "cell_type": "markdown",
   "id": "ed691106",
   "metadata": {},
   "source": [
    "### 01 꼭 필요한 자료구조 기초\n",
    "\n",
    "__탐색__: <mark>많은 양의 데이터 중에서 원하는 데이터를 찾는 과정</mark>   \n",
    "   \n",
    " 프로그래밍에서는 그래프, 트리 등의 자료구조 안에서 탐색을 하는 문제를 자주 다룬다. 대표적인 탐색 알고리즘으로 DFS와 BFS를 꼽을 수 있는데 이 두 알고리즘의 원리를 제대로 이해해야지 코딩 테스트의 탐색 문제 유형을 풀 수 있다. 그런데 DFS와 BFS를 제대로 이해하려면 기본 자료구조인 스택과 큐에 대한 이해가 전제되어야 한다.   \n",
    "    \n",
    "__자료구조Data Struture__: <mark> 데이터를 표현하고 관리하고 처리하기 위한 구조</mark>   \n",
    "   \n",
    " 그 중 스택과 큐는 자료구조의 기초 개념으로 다음의 두 핵심적인 함수로 구성된다.\n",
    " - 삽입(Push): 데이터를 삽입한다.\n",
    " - 삭제(Pop): 데이터를 삭제한다.\n",
    "  실제로 사용할 때는 삽입 삭제 외에도 오버플로와 언더플로를 고민해야 한다.\n",
    "  - 오버플로(Overflow): 특정한 자료구조가 수용할 수 있는 데이터의 크기를 이미 가득 찬 상태에서 삽입 연산을 수행할 때 발생한다. 즉, 저장 공간을 벗어나 데이터가 넘쳐흐를 때 발생한다.\n",
    "  - 언더플로(Underflow): 특정한 자료구조에 데이터가 전혀 들어 있지 않은 상태에서 삭제 연산을 수행하면 데이터가 전혀 없는 상태이므로 발생한다.\n",
    " \n",
    "##### 스택\n",
    " __스택Stack__ 은 데이터를 차곡차곡 쌓아 올린 형태의 자료구조이다. 데이터를 순서대로 쌓으며 가장 마지막에 삽입된 자료가 가장 먼저 출력되는 <mark>선입후출First In List Out 구조</mark>를 가지고 있다.\n",
    " <img src=\"../image/DFSBFS_스택_1.jpg\"></img>\n",
    "   \n",
    " 파이썬에서 스택을 이용할 때에는 별도의 라이브러리를 사용할 필요가 없다. 기본 리스트에서 append()와 pop() 메서드를 이용하면 스택 자료구조와 동일하게 동작한다. append() 메서드는 리스트의 가장 뒤쪽에 데이터를 삽입하고, pop 메서드는 가장 뒤쪽에서 데이터를 꺼내기 때문이다."
   ]
  },
  {
   "cell_type": "code",
   "execution_count": 1,
   "id": "95f1ddff",
   "metadata": {},
   "outputs": [
    {
     "name": "stdout",
     "output_type": "stream",
     "text": [
      "[5, 2, 3, 1]\n",
      "[1, 3, 2, 5]\n"
     ]
    }
   ],
   "source": [
    "# 5-1.py 스택 예저\n",
    "stack = []\n",
    "\n",
    "# 삽입(5) - 삽입(2) - 삽입(3) - 삽입(7) - 삭제() - 삽입(1) - 삽입(4) - 삭제()\n",
    "stack.append(5)\n",
    "stack.append(2)\n",
    "stack.append(3)\n",
    "stack.append(7)\n",
    "stack.pop()\n",
    "stack.append(1)\n",
    "stack.append(4)\n",
    "stack.pop()\n",
    "\n",
    "print(stack) # 최하단 원소부터 출력\n",
    "print(stack[::-1]) # 최상단 원소부터 출력"
   ]
  },
  {
   "cell_type": "markdown",
   "id": "20af3f4f",
   "metadata": {},
   "source": [
    "##### 큐\n",
    " __큐Queue__ 는 나중에 들어온 자료일수록 나중에 들어가기 때문에 흔히 '공정한' 자료구조라고 비유된다. 이러한 구조를 <mark>선입선출First In First Out 구조</mark>라고 한다.\n",
    "  <img src=\"../image/DFSBFS_큐_1.jpg\"></img>\n",
    "   \n",
    " 파이썬으로 큐를 구현할 때는 collections 모듈에서 제공하는 deque 자료구조를 활용한다. deque는 스택과 큐의 장점을 모두 채택한 것인데 데이터를 넣고 빼는 속도가 리스트 자료형에 비해 효율적이며 queue 라이브러리를 이용하는 것보다 더 간단하다. deque 객체를 리스트 자료형으로 변경하고자 한다면 list() 메서드를 이용하면 된다."
   ]
  },
  {
   "cell_type": "code",
   "execution_count": 3,
   "id": "a55836a4",
   "metadata": {},
   "outputs": [
    {
     "name": "stdout",
     "output_type": "stream",
     "text": [
      "deque([3, 7, 1, 4])\n",
      "deque([4, 1, 7, 3])\n"
     ]
    }
   ],
   "source": [
    "# 5-2.py 큐 예제\n",
    "from collections import deque\n",
    "\n",
    "# 큐(Queue) 구현을 위해 deque 라이브러리 사용\n",
    "queue = deque()\n",
    "\n",
    "# 삽입(5) - 삽입(2) - 삽입(3) - 삽입(7) - 삭제() - 삽입(1) - 삽입(4) - 삭제()\n",
    "queue.append(5)\n",
    "queue.append(2)\n",
    "queue.append(3)\n",
    "queue.append(7)\n",
    "queue.popleft()\n",
    "queue.append(1)\n",
    "queue.append(4)\n",
    "queue.popleft()\n",
    "\n",
    "print(queue) # 먼저 들어온 순서대로 출력\n",
    "queue.reverse() # 다음 출력을 위해 역순으로 바꾸기\n",
    "print(queue) # 나중에 들어온 원소부터 출력"
   ]
  },
  {
   "cell_type": "markdown",
   "id": "ddf37964",
   "metadata": {},
   "source": [
    "##### 재귀 함수\n",
    " DFS와 BFS를 구현하려면 재귀 함수도 이해하고 있어야 한다. __재귀 함수Recursive Function__ 란 <mark>자기 자신을 다시 호출하는 함수</mark>를 의미한다"
   ]
  },
  {
   "cell_type": "code",
   "execution_count": null,
   "id": "74ed49a5",
   "metadata": {},
   "outputs": [],
   "source": [
    "# 5-3.py 재귀 함수 예제\n",
    "def recursive_function():\n",
    "    print('재귀 함수를 호출합니다.')\n",
    "    recursive_function()\n",
    "\n",
    "recursive_function()"
   ]
  },
  {
   "cell_type": "markdown",
   "id": "d24fb16f",
   "metadata": {},
   "source": [
    " 이 코드를 실행하면 '재귀 함수를 호출합니다'라는 문자열을 무한히 출력한다. 여기서 정의한 recursive_function()이 자기 자신을 계속해서 추가로 불러오기 때문이다.\n",
    "\n",
    "> RecursionError： maximum recursion depth exceeded while pickling an object\n",
    "   \n",
    " 이 오류 메시지는 재귀의 최대 깊이를 초과했다는 내용이다. 보통 파이썬 인터프리터는 호출 횟수 제한이 있는데 이 한계를 벗어났기 때문이다. 따라서 무한대로 재귀 호출을 진행할 수 없다.   \n",
    "    \n",
    "__재귀 함수의 종료 조건__   \n",
    " 재귀 함수를 문제 풀이에서 사용할 때는 재귀 함수가 언제 끝날지, 종료 조건을 꼭 명시해야 한다. 자칫 종료 조건을 명시하지 않으면 함수가 무한 호출될 수 있다.   \n",
    "   \n",
    " 컴퓨터 내부에서 재귀 함수의 수행은 스택 자료구조를 이용한다. 함수를 계속 호출했을 때 가장 마지막에 호출한 함수가 먼저 수행을 끝내야 그 앞의 함수 호출이 종료되기 때문이다. 컴퓨터의 구조 측면에서 보자면 연속해서 호출되는 함수는 메인 메모리의 스택 공간에 적재되므로 재귀 함수는 스택 자료구조와 같다는 말은 틀린 말이 아니다. 따라서 스택 자료구조를 활용해야 하는 상당수 알고리즘은 재귀 함수를 이용해서 간편하게 구현될 수 있다. DFS가 대표적인 예이다.   \n",
    "    \n",
    " 재귀 함수를 이용하는 대표적인 예제로는 팩토리얼Factorial 문제가 있다. 팩토리얼 기호는 느낌표(!)를 사용하며 n!는 1 x 2 x 3 x ... x (n - 1) x n을 의미한다. 수학적으로 0!과 1!의 값은 1로 같다는 성질을 이용하여 팩토리얼 함수는 n이 1 이하가 되었을 때 함수를 종료하는 재귀 함수의 형태로 구현할 수 있다."
   ]
  },
  {
   "cell_type": "code",
   "execution_count": 4,
   "id": "f9f3e6cb",
   "metadata": {},
   "outputs": [
    {
     "name": "stdout",
     "output_type": "stream",
     "text": [
      "반복적으로 구현: 120\n",
      "재귀적으로 구현: 120\n"
     ]
    }
   ],
   "source": [
    "# 5-5.py 2가지 방식으로 구현한 팩토리얼 예제\n",
    "# 반복적으로 구현 n!\n",
    "def factorial_iterative(n):\n",
    "    result = 1\n",
    "    # 1부터 n까지의 수를 차례대로 곱하기\n",
    "    for i in range(1, n + 1):\n",
    "        result *= i\n",
    "    return result\n",
    "\n",
    "# 재귀적으로 표현한 n!\n",
    "def factorial_recursive(n):\n",
    "    if n <= 1: # n 이하인 경우 1을 반환\n",
    "        return 1\n",
    "    # n != n * (n - 1)를 그대로 코드로 작성하기\n",
    "    return n * factorial_recursive(n - 1)\n",
    "\n",
    "# 각각의 방식으로 구현한 n! 출력(n = 5)\n",
    "print('반복적으로 구현:', factorial_iterative(5))\n",
    "print('재귀적으로 구현:', factorial_recursive(5))"
   ]
  },
  {
   "cell_type": "markdown",
   "id": "eae189fe",
   "metadata": {},
   "source": [
    " 실행 결과는 동일하다. 그렇다면 반복문 대신 재귀 함수를 사용했을 때 얻을 수 있는 장점은 무엇일까?   \n",
    "   \n",
    " 위의 코드를 비교했을 때 재귀 함수의 코드가 더 간결한 것을 알 수 있다. 이렇게 간결해진 이유는 재귀 함수가 수학의 점화식(재귀식)을 그대로 소스코드로 옮겼기 때문이다. 수학에서 점화식은 특정한 함수를 자신보다 더 작은 변수에 대한 함수와의 관계로 표현한 것을 의미한다. 이 개념은 이후에 배울 '다이나믹 프로그래밍'으로 이어지기 때문에 중요하다.   \n",
    "    \n",
    " 팩토리얼을 수학적 점화식으로 표현해보면 다음과 같다.\n",
    " - n이 0 혹은 1일 때: factorial(n) = 1\n",
    " - n이 1보다 클 때: factorial(n) = n x factorial(n - 1)\n",
    "    \n",
    "\n",
    " 일반적으로 우리는 점화식에서 종료 조건을 찾을 수 있는데, 앞 예시에서 종료 조건은 'n이 0 혹은 1일 때'이다. 팩토리얼은 n이 양의 정수일 때에만 유효하기 때문에 n이 1 이하인 경우 1을 반환할 수 있도록 재귀 함수를 작성해야 한다. n이 1 이하인 경우를 고려하지 않으면 재귀 함수가 무한히 반복되어 결과를 출력하지 못할 것이다. 또한 n의 값으로 음수가 들어왔을 때는 입력 범위 오류로, 오류 메시지를 띄우도록 코드를 작성할 수도 있다. 따라서 재귀 함수 내에서 특정 조건일 때 더 이상 재귀적으로 함수를 호출하지 않도록 종료하도록 if문을 이용하여 꼭 종료 조건을 구현해주어야 한다."
   ]
  },
  {
   "cell_type": "markdown",
   "id": "15051cad",
   "metadata": {},
   "source": [
    "### 02 탐색 알고리즘 DFS/BFS\n",
    "\n",
    " \n",
    "##### DFS\n",
    " __DFS__: Depth-First-Search, <mark>깊이 우선 탐색이라고도 부르며, 그래프에서 깊은 부분을 우선적으로 탐색하는 알고리즘</mark>이다.\n",
    "   \n",
    " 그래프는 __노드Node__ 와 __간석Edge__ 으로 표현되며 이때 노드를 __장점Vertex__ 이라고도 한다. 그래프 탐새이란 하나의 노드를 시작으로 다수의 노드를 방문하는 것을 말한다. 또한 두 노드가 간선으로 연결되어 있다면 '두 노드는 인접하다Adjacent'라고 표현한다.   \n",
    "   <img src=\"../image/DFSBFS_DFS_1.jpg\"></img>\n",
    "   \n",
    " 프로그래밍에서 그래프는 크게 2가지 방식으로 표현할 수 있는데 코딩 테스트에서는 이 두 방식 모두 필요하다.\n",
    " - 인접 행렬(Adjacency Matrix): 2차원 배열로 그래프의 연결 관계를 표현하는 방식\n",
    " - 인접 리스트(Adjacency List): 리스트로 그래프의 연결 관계를 표현하는 방식\n",
    "\n",
    " __인접 행렬Adjacency Matrix 방식__ 은 2차원 배열에 각 노드가 연결된 형태를 기록하는 방식이다. 연결된 그래프를 인접 행렬로 표현할 때 파이썬에서는 2차원 리스트로 구현할 수 있다.   \n",
    "    <img src=\"../image/DFSBFS_DFS_2.jpg\"></img>\n",
    "    \n",
    " 연결이 되어 있지 않은 노드끼리는 무한의 비용이라고 작성한다. 실제 코드에서는 논리적으로 정답이 도리 수 없는 큰 값 중에서  999999999, 987654321 등의 값으로 초기화 하는 경우가 많다. 그래서 인접 행렬 방식으로 처리할 때는 다음과 같이 데이터를 초기화한다.\n",
    "\n",
    "``` python\n",
    "INF = 999999999 # 무한의 비용 선언\n",
    "\n",
    "# 2원 리스트를 이용해 인접 행렬 표현\n",
    "graph = [\n",
    "    [0, 7, 5],\n",
    "    [7, 0, INF],\n",
    "    [5, INF, 0]\n",
    "]\n",
    "```\n",
    "   \n",
    " __인접 리스트Adjacency List 방식__ 에서는 다음 그림처럼 모든 노드에 연결된 노드에 대한 정보를 차례대로 연결하여 저장한다.   \n",
    "     <img src=\"../image/DFSBFS_DFS_3.jpg\"></img>\n",
    "   \n",
    " 인접 리스트는 '연결 리스트'라는 자료구조를 이용해 구현하는데, C++나 자바와 같은 프로그래밍 언어에서는 별도로 연결 리스트 기능을 위한 표준 라이브러리를 제공한다. 반면에 파이썬은 기본 자료형은 리스트 자료형이 append()와 메소드를 제공하므로, 전통적인 프로그래밍 언어에서는 배열과 연결 리스트의 기능을 모두 기본으로 제공한다. 파이썬으로 인접 리스트를 이용해 그래프를 표현하고자 할 때에는 단순히 2차원 리스트를 이용하면 된다.\n",
    " \n",
    "```python\n",
    "# 행(Row)이 3개인 2차원 리스트로 인접 리스트 표현\n",
    "graph = [[] for _ in range(3)]\n",
    "\n",
    "# 노드 0에 연결된 노드 정보 저장(노드, 거리)\n",
    "graph[0].append((1, 7))\n",
    "graph[0].append((2, 5))\n",
    "\n",
    "# 노드 1에 연결된 노드 정보 저장(노드, 거리)\n",
    "graph[1].append((0, 7))\n",
    "\n",
    "# 노드 2에 연결된 노드 정보 저장(노드, 거리)\n",
    "graph[2].append((0, 5))\n",
    "\n",
    "print(graph)\n",
    "```\n",
    "   \n",
    " 이 두 방식에는 메모"
   ]
  },
  {
   "cell_type": "code",
   "execution_count": null,
   "id": "b1c1b695",
   "metadata": {},
   "outputs": [],
   "source": []
  }
 ],
 "metadata": {
  "kernelspec": {
   "display_name": "Python 3 (ipykernel)",
   "language": "python",
   "name": "python3"
  },
  "language_info": {
   "codemirror_mode": {
    "name": "ipython",
    "version": 3
   },
   "file_extension": ".py",
   "mimetype": "text/x-python",
   "name": "python",
   "nbconvert_exporter": "python",
   "pygments_lexer": "ipython3",
   "version": "3.10.1"
  }
 },
 "nbformat": 4,
 "nbformat_minor": 5
}
