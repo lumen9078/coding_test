{
 "cells": [
  {
   "cell_type": "markdown",
   "metadata": {},
   "source": [
    "### 프린터 큐\n",
    "##### 실버 III\n",
    "\n",
    "여러분도 알다시피 여러분의 프린터 기기는 여러분이 인쇄하고자 하는 문서를 인쇄 명령을 받은 ‘순서대로’, 즉 먼저 요청된 것을 먼저 인쇄한다. 여러 개의 문서가 쌓인다면 Queue 자료구조에 쌓여서 FIFO - First In First Out - 에 따라 인쇄가 되게 된다. 하지만 상근이는 새로운 프린터기 내부 소프트웨어를 개발하였는데, 이 프린터기는 다음과 같은 조건에 따라 인쇄를 하게 된다.\n",
    "\n",
    " - 현재 Queue의 가장 앞에 있는 문서의 ‘중요도’를 확인한다.\n",
    " - 나머지 문서들 중 현재 문서보다 중요도가 높은 문서가 하나라도 있다면, 이 문서를 인쇄하지 않고 Queue의 가장 뒤에 재배치 한다. 그렇지 않다면 바로 인쇄를 한다.\n",
    "\n",
    "예를 들어 Queue에 4개의 문서(A B C D)가 있고, 중요도가 2 1 4 3 라면 C를 인쇄하고, 다음으로 D를 인쇄하고 A, B를 인쇄하게 된다.\n",
    "\n",
    "여러분이 할 일은, 현재 Queue에 있는 문서의 수와 중요도가 주어졌을 때, 어떤 한 문서가 몇 번째로 인쇄되는지 알아내는 것이다. 예를 들어 위의 예에서 C문서는 1번째로, A문서는 3번째로 인쇄되게 된다.\n",
    "\n",
    "##### 입력 조건\n",
    "첫 줄에 테스트케이스의 수가 주어진다. 각 테스트케이스는 두 줄로 이루어져 있다.\n",
    "\n",
    "테스트케이스의 첫 번째 줄에는 문서의 개수 N(1 ≤ N ≤ 100)과, 몇 번째로 인쇄되었는지 궁금한 문서가 현재 Queue에서 몇 번째에 놓여 있는지를 나타내는 정수 M(0 ≤ M < N)이 주어진다. 이때 맨 왼쪽은 0번째라고 하자. 두 번째 줄에는 N개 문서의 중요도가 차례대로 주어진다. 중요도는 1 이상 9 이하의 정수이고, 중요도가 같은 문서가 여러 개 있을 수도 있다.\n",
    "\n",
    "##### 출력 조건\n",
    "각 테스트 케이스에 대해 문서가 몇 번째로 인쇄되는지 출력한다."
   ]
  },
  {
   "cell_type": "code",
   "execution_count": 29,
   "metadata": {
    "scrolled": false
   },
   "outputs": [
    {
     "name": "stdout",
     "output_type": "stream",
     "text": [
      "1\n",
      "6 0\n",
      "1 1 9 1 1 1\n",
      "1 9\n",
      "1 9\n",
      "9 9\n",
      "1 1\n",
      "1 1\n",
      "1 1\n",
      "1 1\n",
      "1 1\n",
      "6 0 deque([])\n"
     ]
    }
   ],
   "source": [
    "from collections import deque\n",
    "import copy\n",
    "number = int(input())\n",
    "\n",
    "result = []\n",
    "for _ in range(number):\n",
    "    n, r = map(int, input().split())\n",
    "    im = deque(list(map(int, input().split())))\n",
    "    \n",
    "    while len(im) > 0:\n",
    "        if im[0] == max(im):\n",
    "            im.popleft()\n",
    "        else:\n",
    "            im.append(im.popleft())\n",
    "            \n",
    "print(n, r, im)"
   ]
  },
  {
   "cell_type": "code",
   "execution_count": 39,
   "metadata": {},
   "outputs": [
    {
     "name": "stdout",
     "output_type": "stream",
     "text": [
      "1\n",
      "6 0\n",
      "1 1 9 1 1 1\n",
      "[4]\n"
     ]
    }
   ],
   "source": [
    "from collections import deque\n",
    "import copy\n",
    "number = int(input())\n",
    "\n",
    "result = []\n",
    "for _ in range(number):\n",
    "    n, r = map(int, input().split())\n",
    "    im = deque(list(map(int, input().split())))\n",
    "    \n",
    "    result = []\n",
    "    cnt = 0\n",
    "    while len(im) > 0:\n",
    "        if im[0] == max(im):\n",
    "            if im[0] == im[r]:\n",
    "                result.append(cnt+1)\n",
    "                break\n",
    "            im.popleft()\n",
    "            r -= 1\n",
    "        else:\n",
    "            im.append(im.popleft())\n",
    "            if r == 0:\n",
    "                r = len(im)\n",
    "            else:\n",
    "                r -= 1\n",
    "        cnt += 1\n",
    "            \n",
    "print(result)"
   ]
  },
  {
   "cell_type": "markdown",
   "metadata": {},
   "source": [
    "_문제 해설_   \n",
    " - test_case를 먼저 받고 이에 따라 for문을 돌려 n, m과 문서의 중요도imp를 받는다.\n",
    " - idx 변수 생성 : 문서 마다 고유 인덱스를 생성하고, m번째 인덱스를 target으로 둔다.\n",
    " - order 초기화\n",
    " - while True이므로 무한 반복인데 break가 있기 때문에 if절에 걸리는 조건이 맞으면 반복이 중단된다.\n",
    "     - 만약 imp의 첫 번째 값이 가장 크다면 order를 하나 증가시킨다.\n",
    "         - idx의 첫 번째 값이 target이라면\n",
    "             - order를 출력하고 반복을 중단한다.\n",
    "             - 그렇지 않다면 imp와 idx의 첫 번째 값을 제거한다.\n",
    "         - idx의 첫 번째 값이 target이 될 때까지 반복한다."
   ]
  },
  {
   "cell_type": "code",
   "execution_count": 40,
   "metadata": {},
   "outputs": [
    {
     "name": "stdout",
     "output_type": "stream",
     "text": [
      "3\n",
      "1 0\n",
      "5\n",
      "1\n",
      "4 2\n",
      "1 2 3 4\n",
      "2\n",
      "6 0\n",
      "1 1 9 1 1 1\n",
      "5\n"
     ]
    }
   ],
   "source": [
    "test_cases = int(input())\n",
    "\n",
    "for _ in range(test_cases):\n",
    "    n,m = list(map(int, input().split( )))\n",
    "    imp = list(map(int, input().split( )))\n",
    "    idx = list(range(len(imp)))\n",
    "    idx[m] = 'target'\n",
    "\n",
    "    # 순서\n",
    "    order = 0\n",
    "    \n",
    "    while True:\n",
    "        # 첫번째 if: imp의 첫번째 값 = 최댓값?\n",
    "        if imp[0]==max(imp):\n",
    "            order += 1\n",
    "                        \n",
    "            # 두번째 if: idx의 첫 번째 값 = \"target\"?\n",
    "            if idx[0]=='target':\n",
    "                print(order)\n",
    "                break\n",
    "            else:\n",
    "                imp.pop(0)\n",
    "                idx.pop(0)\n",
    "\n",
    "        else:\n",
    "            imp.append(imp.pop(0))\n",
    "            idx.append(idx.pop(0)) "
   ]
  }
 ],
 "metadata": {
  "kernelspec": {
   "display_name": "Python 3",
   "language": "python",
   "name": "python3"
  },
  "language_info": {
   "codemirror_mode": {
    "name": "ipython",
    "version": 3
   },
   "file_extension": ".py",
   "mimetype": "text/x-python",
   "name": "python",
   "nbconvert_exporter": "python",
   "pygments_lexer": "ipython3",
   "version": "3.8.3"
  }
 },
 "nbformat": 4,
 "nbformat_minor": 4
}
