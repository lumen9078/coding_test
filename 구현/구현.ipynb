{
 "cells": [
  {
   "cell_type": "markdown",
   "id": "ddcbbbed",
   "metadata": {},
   "source": [
    "# 구현\n",
    "## : 머리속에 있는 알고리즘을 정확하고 빠르게 프로그램으로 작성하기"
   ]
  },
  {
   "cell_type": "markdown",
   "id": "13a248b1",
   "metadata": {},
   "source": [
    "### 01 아이디어를 코드로 바꾸는 구현\n",
    "\n",
    "\n",
    "__구현__: 머릿속에 있는 알고리즘을 소스코드로 바꾸는 과정\n",
    " - 어떤 문제를 풀든 간에 소스코드를 작성하는 과정은 필수이므로 구현 문제 유형은 모든 범위의 코딩 테스트 문제 운형을 포함하는 개념\n",
    " - __완전 탐색__ :  모든 경우의 수를 주저 없이 다 계산하는 문제 유형\n",
    " - __시뮬레이션__ : 문제에서 제시한 알고리즘을 한 단계씩 차례대로 직접 수행해야하는 문제 유형\n",
    " \n",
    "##### 구현 시 고려해야 할 메모리 제약 사항\n",
    "__파이썬에서 변수의 표현 범위__   \n",
    " 파이썬에서는 프로그래머가 직접 자료형을 지정할 필요가 없으며 매우 큰 수의 연산 또한 기본으로 지원한다. 따라서 파이썬을 이용하는 개발자라면 자료형의 표현 범위 제한에 대해 깊게 이해하고 있지 않아도 괜찮다. 다만, 파이썬에서의 실수형 변수는 다른 언어와 마찬가지로 유효숫자에 따라서 연산 결과가 원하는 값이 나오지 않을 수 있다.   \n",
    "    \n",
    "_파이썬에서의 리스트 크기_\n",
    " 파이썬에서 리스트를 이용할 때에는 코딩 테스트의 메모리 제한을 고려해야 한다. 대체로 코딩 테스트에서는 128~51MB로 메모리를 제한하는데 알고리즘 문제 중 때로는 수백만 개 이상의 데이터를 처리해야 하는 문제가 출제되곤 한다. 이럴 때는 메모리 제한을 엄두에 두고 코딩해야 한다.   \n",
    " 파이썬에서는 정수 데이터를 사용할 때 int와 같은 별도의 자료형을 명시해줄 필요가 없지만, 시스템 내부적으로 다음과 유사한 크기만큼 메모리를 차지한다.\n",
    " "
   ]
  },
  {
   "cell_type": "code",
   "execution_count": null,
   "id": "d7f40d1b",
   "metadata": {},
   "outputs": [],
   "source": []
  }
 ],
 "metadata": {
  "kernelspec": {
   "display_name": "Python 3 (ipykernel)",
   "language": "python",
   "name": "python3"
  },
  "language_info": {
   "codemirror_mode": {
    "name": "ipython",
    "version": 3
   },
   "file_extension": ".py",
   "mimetype": "text/x-python",
   "name": "python",
   "nbconvert_exporter": "python",
   "pygments_lexer": "ipython3",
   "version": "3.10.1"
  }
 },
 "nbformat": 4,
 "nbformat_minor": 5
}
