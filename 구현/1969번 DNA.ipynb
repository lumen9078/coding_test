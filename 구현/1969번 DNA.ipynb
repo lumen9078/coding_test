{
 "cells": [
  {
   "cell_type": "markdown",
   "metadata": {},
   "source": [
    "### DNA\n",
    "##### 실버V\n",
    "\n",
    "DNA란 어떤 유전물질을 구성하는 분자이다. 이 DNA는 서로 다른 4가지의 뉴클레오티드로 이루어져 있다(Adenine, Thymine, Guanine, Cytosine). 우리는 어떤 DNA의 물질을 표현할 때, 이 DNA를 이루는 뉴클레오티드의 첫글자를 따서 표현한다. 만약에 Thymine-Adenine-Adenine-Cytosine-Thymine-Guanine-Cytosine-Cytosine-Guanine-Adenine-Thymine로 이루어진 DNA가 있다고 하면, “TAACTGCCGAT”로 표현할 수 있다. 그리고 Hamming Distance란 길이가 같은 두 DNA가 있을 때, 각 위치의 뉴클오티드 문자가 다른 것의 개수이다. 만약에 “AGCAT\"와 ”GGAAT\"는 첫 번째 글자와 세 번째 글자가 다르므로 Hamming Distance는 2이다.\n",
    "\n",
    "우리가 할 일은 다음과 같다. N개의 길이 M인 DNA s1, s2, ..., sn가 주어져 있을 때 Hamming Distance의 합이 가장 작은 DNA s를 구하는 것이다. 즉, s와 s1의 Hamming Distance + s와 s2의 Hamming Distance + s와 s3의 Hamming Distance ... 의 합이 최소가 된다는 의미이다.\n",
    "\n",
    "##### 입력 조건\n",
    "첫 줄에 DNA의 수 N과 문자열의 길이 M이 주어진다. 그리고 둘째 줄부터 N+1번째 줄까지 N개의 DNA가 주어진다. N은 1,000보다 작거나 같은 자연수이고, M은 50보다 작거나 같은 자연수이다.\n",
    "\n",
    "##### 출력 조건\n",
    "첫째 줄에 Hamming Distance의 합이 가장 작은 DNA 를 출력하고, 둘째 줄에는 그 Hamming Distance의 합을 출력하시오. 그러한 DNA가 여러 개 있을 때에는 사전순으로 가장 앞서는 것을 출력한다."
   ]
  },
  {
   "cell_type": "code",
   "execution_count": 1,
   "metadata": {},
   "outputs": [
    {
     "name": "stdout",
     "output_type": "stream",
     "text": [
      "6 10\n",
      "ATGTTACCAT\n",
      "AAGTTACGAT\n",
      "AACAAAGCAA\n",
      "AAGTTACCTT\n",
      "AAGTTACCAA\n",
      "TACTTACCAA\n",
      "AAGTTACCAA\n",
      "12\n"
     ]
    }
   ],
   "source": [
    "from collections import Counter\n",
    "n, m = map(int, input().split())\n",
    "string = [[] for _ in range (m)]\n",
    "\n",
    "for _ in range (n):\n",
    "    s = list(input())\n",
    "    for i in range(m):\n",
    "        string[i].append(s[i])\n",
    "\n",
    "hd_str = ''\n",
    "hd_num = 0\n",
    "for i in range(m):\n",
    "    value = Counter(sorted(string[i])).most_common()[0]\n",
    "    hd_str += value[0]\n",
    "    hd_num += n - value[1]\n",
    "\n",
    "print(hd_str)\n",
    "print(hd_num)"
   ]
  }
 ],
 "metadata": {
  "kernelspec": {
   "display_name": "Python 3",
   "language": "python",
   "name": "python3"
  },
  "language_info": {
   "codemirror_mode": {
    "name": "ipython",
    "version": 3
   },
   "file_extension": ".py",
   "mimetype": "text/x-python",
   "name": "python",
   "nbconvert_exporter": "python",
   "pygments_lexer": "ipython3",
   "version": "3.8.3"
  }
 },
 "nbformat": 4,
 "nbformat_minor": 4
}
