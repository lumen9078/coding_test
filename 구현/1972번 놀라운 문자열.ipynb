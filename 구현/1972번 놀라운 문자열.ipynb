{
 "cells": [
  {
   "cell_type": "markdown",
   "metadata": {},
   "source": [
    "### 놀라운 문자열\n",
    "##### 실버 III\n",
    "\n",
    "대문자 알파벳으로만 이루어져 있는 문자열이 있다. 이 문자열에 대해서 ‘D-쌍’이라는 것을 정의할 수 있는데, 이 문자열에 포함되어 있는, 거리가 D인 두 문자를 순서대로 나열한 것을 이 문자열의 D-쌍이라고 한다. 예를 들어 문자열이 ZGBG라고 하자. 이 문자열의 0-쌍은 ZG, GB, BG가 되고, 이 문자열의 1-쌍은 ZB, GG가 되며, 이 문자열의 2-쌍은 ZG가 된다. 문자열의 길이가 N이라고 할 때, 0-쌍부터 (N-2)-쌍까지가 정의됨을 알 수 있다.\n",
    "\n",
    "만일 정의되는 D에 대해, 어떤 문자열의 모든 D-쌍들이 서로 다를 때, 이 문자열을 D-유일하다고 한다. 위의 예를 보면, 0-쌍들은 ZG, GB, BG로 모두 다르다. 따라서 이 문자열은 0-유일하며, 마찬가지로 1-유일하고, 2-유일하다. 하지만 만일 문자열이 AAA라고 하자. 이 문자열은 0-유일하지 않으며, 다만 1-유일하다.\n",
    "\n",
    "만일 어떤 문자열이 정의되는 모든 D에 대해 D-유일하면, 이 문자열을 정말이지 ‘놀라운 문자열’이라고 한다. 문자열이 주어질 때, 이 문자열이 놀라운 문자열인지 아닌지를 구하는 프로그램을 작성하시오.\n",
    "\n",
    "##### 입력 조건\n",
    "입력의 각 줄에는 알파벳 대문자로만 구성된 문자열이 주어진다. 모든 문자열의 길이는 80을 넘지 않으며, 입력의 마지막 줄에는 마지막을 나타내는 *가 주어진다. 입력은 마지막 줄을 포함해서 101줄을 넘지 않는다.\n",
    "\n",
    "##### 출력 조건\n",
    "각 줄에 이 문자열이 놀라운(surprising) 문자열인지 아닌지를 아래의 예제와 같이 출력한다."
   ]
  },
  {
   "cell_type": "code",
   "execution_count": 1,
   "metadata": {},
   "outputs": [
    {
     "name": "stdout",
     "output_type": "stream",
     "text": [
      "ZGBG\n",
      "ZGBG is surprising.\n",
      "X\n",
      "X is surprising.\n",
      "EE\n",
      "EE is surprising.\n",
      "AAB\n",
      "AAB is surprising.\n",
      "AABA\n",
      "AABA is surprising.\n",
      "AABB\n",
      "AABB is NOT surprising.\n",
      "BCBABCC\n",
      "BCBABCC is NOT surprising.\n",
      "*\n"
     ]
    }
   ],
   "source": [
    "def surprising(string):\n",
    "    d = len(string) - 2\n",
    "    for i in range(0, d + 1):\n",
    "        lst = []\n",
    "        for j in range(len(string)):\n",
    "            if j + i + 1 >= len(string):\n",
    "                break\n",
    "            lst.append(f'{string[j]}{string[j+i+1]}')\n",
    "\n",
    "        for l in lst:\n",
    "            if lst.count(l) > 1:\n",
    "                return print(f'{string} is NOT surprising.')\n",
    "    return print(f'{string} is surprising.')\n",
    "\n",
    "while True:\n",
    "    string = input()\n",
    "    if string == \"*\":\n",
    "        break\n",
    "    \n",
    "    surprising(string)"
   ]
  }
 ],
 "metadata": {
  "kernelspec": {
   "display_name": "Python 3",
   "language": "python",
   "name": "python3"
  },
  "language_info": {
   "codemirror_mode": {
    "name": "ipython",
    "version": 3
   },
   "file_extension": ".py",
   "mimetype": "text/x-python",
   "name": "python",
   "nbconvert_exporter": "python",
   "pygments_lexer": "ipython3",
   "version": "3.8.3"
  }
 },
 "nbformat": 4,
 "nbformat_minor": 4
}
